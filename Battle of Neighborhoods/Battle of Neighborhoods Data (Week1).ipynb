{
 "cells": [
  {
   "cell_type": "markdown",
   "metadata": {},
   "source": [
    "<h1>Data Requirements:</h1>"
   ]
  },
  {
   "cell_type": "markdown",
   "metadata": {},
   "source": [
    "<h2> List of Tokyo Wards  </h2>"
   ]
  },
  {
   "cell_type": "markdown",
   "metadata": {},
   "source": [
    "I used a list of the names of the special wards of Tokyo as the foundation for my datasets: https://en.wikipedia.org/wiki/Special_wards_of_Tokyo"
   ]
  },
  {
   "cell_type": "markdown",
   "metadata": {},
   "source": [
    "<h2> Information of the confirmed cases per ward "
   ]
  },
  {
   "cell_type": "markdown",
   "metadata": {},
   "source": [
    "I used the information provided by the Tokyo Metropolitian Government:\n",
    "https://stopcovid19.metro.tokyo.lg.jp/en/"
   ]
  },
  {
   "cell_type": "markdown",
   "metadata": {},
   "source": [
    "<h2>List of hotels and residential areas within all wards of Tokyo </h2>"
   ]
  },
  {
   "cell_type": "markdown",
   "metadata": {},
   "source": [
    "We use 4SQUARE API to download all venues:\n",
    "https://api.foursquare.com\n",
    "Extract only hotels and residental areas in our data set for clustering."
   ]
  },
  {
   "cell_type": "markdown",
   "metadata": {},
   "source": [
    "<h2> List of hospitals in Tokyo "
   ]
  },
  {
   "cell_type": "code",
   "execution_count": null,
   "metadata": {},
   "outputs": [],
   "source": [
    "I will mainly work with the following 15 hospitals provided by: "
   ]
  },
  {
   "cell_type": "markdown",
   "metadata": {},
   "source": [
    "<h2> 3. Combine all of those into a working Data Set to cluster and create map of the results showing the best neighborhood to incentivize residents for Covid patients housing </h2>"
   ]
  },
  {
   "cell_type": "markdown",
   "metadata": {},
   "source": [
    "Combining our datasets we will be able to answer some key ideas:\n",
    "<ul>\n",
    "<li> Which neighborhoods/wards in Tokyo have hospitals\n",
    "<li> Which neighborhoods/wards have the most infection rates\n",
    "<li> The number of hotels within neighborhoods/wards in Tokyo\n",
    "<li> Which neighborhoods/wards should be prioritized above others\n",
    "</ul>"
   ]
  },
  {
   "cell_type": "code",
   "execution_count": null,
   "metadata": {},
   "outputs": [],
   "source": []
  }
 ],
 "metadata": {
  "kernelspec": {
   "display_name": "Python 3",
   "language": "python",
   "name": "python3"
  },
  "language_info": {
   "codemirror_mode": {
    "name": "ipython",
    "version": 3
   },
   "file_extension": ".py",
   "mimetype": "text/x-python",
   "name": "python",
   "nbconvert_exporter": "python",
   "pygments_lexer": "ipython3",
   "version": "3.8.3"
  }
 },
 "nbformat": 4,
 "nbformat_minor": 4
}
