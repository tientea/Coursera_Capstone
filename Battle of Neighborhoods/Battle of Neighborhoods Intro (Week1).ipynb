{
 "cells": [
  {
   "cell_type": "markdown",
   "metadata": {},
   "source": [
    "<h1> Relieving the overcrowdedness of hospitals in Tokyo"
   ]
  },
  {
   "cell_type": "markdown",
   "metadata": {},
   "source": [
    "By Tien Tran"
   ]
  },
  {
   "cell_type": "markdown",
   "metadata": {},
   "source": [
    "<h2> Introduction</h2>"
   ]
  },
  {
   "cell_type": "markdown",
   "metadata": {},
   "source": [
    "As the unprecedented pandemic spread across the globe, many lives have been taken. Japan is one of those countries that have been struggling to keep the disease in check and as of January 2021, the third wave of the pandemic have caused the government to raise the Emergency Alert once more. Hospitals are running out of space for patients forcing many to quarantine themselves in hotels instead of more suitable facilities for COVID treatment (<a href = \"https://www.japantimes.co.jp/news/2020/12/12/national/coronavirus-hospital-bed-occupancy/\"> JapanTimes </a>)"
   ]
  },
  {
   "cell_type": "markdown",
   "metadata": {},
   "source": [
    "<h2> Proposal </h2>"
   ]
  },
  {
   "cell_type": "markdown",
   "metadata": {},
   "source": [
    "As many urban residents are becoming more interested to move to the countryside, they can offer their residence for temporary housing of COVID patients especially for those that are near treatment facilities. Governments can offer incentives for those who are willing to do so."
   ]
  },
  {
   "cell_type": "markdown",
   "metadata": {},
   "source": [
    "The questions needed to be asked: \n",
    "<ul>\n",
    "<li> What are the infection rates across Tokyo's wards?\n",
    "<li> Where are the hospitals located in Tokyo?  \n",
    "</ul>"
   ]
  },
  {
   "cell_type": "markdown",
   "metadata": {},
   "source": [
    "<h2>Requirements:</h2>"
   ]
  },
  {
   "cell_type": "markdown",
   "metadata": {},
   "source": [
    "<h3>1. The temporary housing must be close to a hospital and in places where hotels are too far or too little </h3>"
   ]
  },
  {
   "cell_type": "markdown",
   "metadata": {},
   "source": [
    "<h3> 2. Confirm any assumption by means of modeling and testing the data </h3>"
   ]
  },
  {
   "cell_type": "markdown",
   "metadata": {},
   "source": [
    "<h3> 3. Combine all of those into a working Data Set to cluster and create map of the results showing the best neighborhood to incentivize residents for Covid patients housing </h3>"
   ]
  },
  {
   "cell_type": "markdown",
   "metadata": {},
   "source": [
    "Combining our datasets we will be able to answer some key ideas:\n",
    "<ul>\n",
    "<li> Which neighborhoods/wards in Tokyo have hospitals\n",
    "<li> Which neighborhoods/wards have the most infection rates\n",
    "<li> The number of hotels within neighborhoods/wards in Tokyo\n",
    "<li> Which neighborhoods/wards should be prioritized above others\n",
    "</ul>"
   ]
  },
  {
   "cell_type": "code",
   "execution_count": null,
   "metadata": {},
   "outputs": [],
   "source": []
  }
 ],
 "metadata": {
  "kernelspec": {
   "display_name": "Python 3",
   "language": "python",
   "name": "python3"
  },
  "language_info": {
   "codemirror_mode": {
    "name": "ipython",
    "version": 3
   },
   "file_extension": ".py",
   "mimetype": "text/x-python",
   "name": "python",
   "nbconvert_exporter": "python",
   "pygments_lexer": "ipython3",
   "version": "3.8.3"
  }
 },
 "nbformat": 4,
 "nbformat_minor": 4
}
